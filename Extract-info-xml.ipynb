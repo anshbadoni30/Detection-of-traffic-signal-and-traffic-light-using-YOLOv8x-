{
 "cells": [
  {
   "cell_type": "code",
   "execution_count": 1,
   "metadata": {},
   "outputs": [],
   "source": [
    "import os\n",
    "from glob import glob\n",
    "import pandas as pd\n",
    "from functools import reduce\n",
    "from xml.etree import ElementTree as et"
   ]
  },
  {
   "cell_type": "code",
   "execution_count": 2,
   "metadata": {},
   "outputs": [],
   "source": [
    "xml_list=glob('Annotations_XML/*.xml')\n",
    "xml_list=list(map(lambda x: x .replace('\\\\','/'),xml_list))"
   ]
  },
  {
   "cell_type": "code",
   "execution_count": 3,
   "metadata": {},
   "outputs": [],
   "source": [
    "def extract_text(filename):\n",
    "    tree = et.parse(filename)\n",
    "    root = tree.getroot()\n",
    "    # Extracting data from the XML\n",
    "    image_name = root.find('filename').text\n",
    "    width = root.find('size').find('width').text\n",
    "    height = root.find('size').find('height').text  \n",
    "    objs = root.findall('object')\n",
    "    parser = []\n",
    "    \n",
    "    for obj in objs:  # Iterate over each object in objs\n",
    "        name = obj.find('name').text\n",
    "        bndbox = obj.find('bndbox')\n",
    "        xmin = bndbox.find('xmin').text\n",
    "        xmax = bndbox.find('xmax').text\n",
    "        ymin = bndbox.find('ymin').text\n",
    "        ymax = bndbox.find('ymax').text\n",
    "        parser.append([image_name, width, height, name, xmin, xmax, ymin, ymax])\n",
    "    \n",
    "    return parser\n"
   ]
  },
  {
   "cell_type": "code",
   "execution_count": 4,
   "metadata": {},
   "outputs": [],
   "source": [
    "parser_all=list(map(extract_text,xml_list))"
   ]
  },
  {
   "cell_type": "code",
   "execution_count": 5,
   "metadata": {},
   "outputs": [],
   "source": [
    "data=reduce(lambda x,y:x+y,parser_all)"
   ]
  },
  {
   "cell_type": "code",
   "execution_count": 6,
   "metadata": {},
   "outputs": [],
   "source": [
    "df=pd.DataFrame(data,columns=['filename','width','height','name','xmin','xmax','ymin','ymax'])"
   ]
  },
  {
   "cell_type": "code",
   "execution_count": 7,
   "metadata": {},
   "outputs": [
    {
     "data": {
      "text/html": [
       "<div>\n",
       "<style scoped>\n",
       "    .dataframe tbody tr th:only-of-type {\n",
       "        vertical-align: middle;\n",
       "    }\n",
       "\n",
       "    .dataframe tbody tr th {\n",
       "        vertical-align: top;\n",
       "    }\n",
       "\n",
       "    .dataframe thead th {\n",
       "        text-align: right;\n",
       "    }\n",
       "</style>\n",
       "<table border=\"1\" class=\"dataframe\">\n",
       "  <thead>\n",
       "    <tr style=\"text-align: right;\">\n",
       "      <th></th>\n",
       "      <th>filename</th>\n",
       "      <th>width</th>\n",
       "      <th>height</th>\n",
       "      <th>name</th>\n",
       "      <th>xmin</th>\n",
       "      <th>xmax</th>\n",
       "      <th>ymin</th>\n",
       "      <th>ymax</th>\n",
       "    </tr>\n",
       "  </thead>\n",
       "  <tbody>\n",
       "    <tr>\n",
       "      <th>0</th>\n",
       "      <td>dayClip1--00000.jpg</td>\n",
       "      <td>1280</td>\n",
       "      <td>960</td>\n",
       "      <td>go</td>\n",
       "      <td>702</td>\n",
       "      <td>706</td>\n",
       "      <td>351</td>\n",
       "      <td>356</td>\n",
       "    </tr>\n",
       "    <tr>\n",
       "      <th>1</th>\n",
       "      <td>dayClip1--00000.jpg</td>\n",
       "      <td>1280</td>\n",
       "      <td>960</td>\n",
       "      <td>go</td>\n",
       "      <td>850</td>\n",
       "      <td>854</td>\n",
       "      <td>405</td>\n",
       "      <td>409</td>\n",
       "    </tr>\n",
       "    <tr>\n",
       "      <th>2</th>\n",
       "      <td>dayClip1--00001.jpg</td>\n",
       "      <td>1280</td>\n",
       "      <td>960</td>\n",
       "      <td>go</td>\n",
       "      <td>702</td>\n",
       "      <td>706</td>\n",
       "      <td>351</td>\n",
       "      <td>355</td>\n",
       "    </tr>\n",
       "    <tr>\n",
       "      <th>3</th>\n",
       "      <td>dayClip1--00001.jpg</td>\n",
       "      <td>1280</td>\n",
       "      <td>960</td>\n",
       "      <td>go</td>\n",
       "      <td>851</td>\n",
       "      <td>855</td>\n",
       "      <td>404</td>\n",
       "      <td>408</td>\n",
       "    </tr>\n",
       "    <tr>\n",
       "      <th>4</th>\n",
       "      <td>dayClip1--00002.jpg</td>\n",
       "      <td>1280</td>\n",
       "      <td>960</td>\n",
       "      <td>go</td>\n",
       "      <td>702</td>\n",
       "      <td>706</td>\n",
       "      <td>349</td>\n",
       "      <td>354</td>\n",
       "    </tr>\n",
       "  </tbody>\n",
       "</table>\n",
       "</div>"
      ],
      "text/plain": [
       "              filename width height name xmin xmax ymin ymax\n",
       "0  dayClip1--00000.jpg  1280    960   go  702  706  351  356\n",
       "1  dayClip1--00000.jpg  1280    960   go  850  854  405  409\n",
       "2  dayClip1--00001.jpg  1280    960   go  702  706  351  355\n",
       "3  dayClip1--00001.jpg  1280    960   go  851  855  404  408\n",
       "4  dayClip1--00002.jpg  1280    960   go  702  706  349  354"
      ]
     },
     "execution_count": 7,
     "metadata": {},
     "output_type": "execute_result"
    }
   ],
   "source": [
    "df.head()"
   ]
  },
  {
   "cell_type": "code",
   "execution_count": 8,
   "metadata": {},
   "outputs": [
    {
     "data": {
      "text/plain": [
       "(100764, 8)"
      ]
     },
     "execution_count": 8,
     "metadata": {},
     "output_type": "execute_result"
    }
   ],
   "source": [
    "df.shape"
   ]
  },
  {
   "cell_type": "code",
   "execution_count": 9,
   "metadata": {},
   "outputs": [
    {
     "data": {
      "text/plain": [
       "go         52379\n",
       "stop       45565\n",
       "warning     2820\n",
       "Name: name, dtype: int64"
      ]
     },
     "execution_count": 9,
     "metadata": {},
     "output_type": "execute_result"
    }
   ],
   "source": [
    "df['name'].value_counts()"
   ]
  },
  {
   "cell_type": "code",
   "execution_count": 10,
   "metadata": {},
   "outputs": [
    {
     "name": "stdout",
     "output_type": "stream",
     "text": [
      "<class 'pandas.core.frame.DataFrame'>\n",
      "RangeIndex: 100764 entries, 0 to 100763\n",
      "Data columns (total 8 columns):\n",
      " #   Column    Non-Null Count   Dtype \n",
      "---  ------    --------------   ----- \n",
      " 0   filename  100764 non-null  object\n",
      " 1   width     100764 non-null  object\n",
      " 2   height    100764 non-null  object\n",
      " 3   name      100764 non-null  object\n",
      " 4   xmin      100764 non-null  object\n",
      " 5   xmax      100764 non-null  object\n",
      " 6   ymin      100764 non-null  object\n",
      " 7   ymax      100764 non-null  object\n",
      "dtypes: object(8)\n",
      "memory usage: 6.2+ MB\n"
     ]
    }
   ],
   "source": [
    "df.info()"
   ]
  },
  {
   "cell_type": "code",
   "execution_count": 11,
   "metadata": {},
   "outputs": [
    {
     "name": "stdout",
     "output_type": "stream",
     "text": [
      "<class 'pandas.core.frame.DataFrame'>\n",
      "RangeIndex: 100764 entries, 0 to 100763\n",
      "Data columns (total 8 columns):\n",
      " #   Column    Non-Null Count   Dtype \n",
      "---  ------    --------------   ----- \n",
      " 0   filename  100764 non-null  object\n",
      " 1   width     100764 non-null  int32 \n",
      " 2   height    100764 non-null  int32 \n",
      " 3   name      100764 non-null  object\n",
      " 4   xmin      100764 non-null  int32 \n",
      " 5   xmax      100764 non-null  int32 \n",
      " 6   ymin      100764 non-null  int32 \n",
      " 7   ymax      100764 non-null  int32 \n",
      "dtypes: int32(6), object(2)\n",
      "memory usage: 3.8+ MB\n"
     ]
    }
   ],
   "source": [
    "cols=['width','height','xmin','xmax','ymin','ymax']\n",
    "df[cols]=df[cols].astype(int)\n",
    "df.info()"
   ]
  },
  {
   "cell_type": "code",
   "execution_count": 12,
   "metadata": {},
   "outputs": [],
   "source": [
    "df['center_x']=((df['xmax']+df['xmin'])/2)/df['width']\n",
    "df['center_y']=((df['ymax']+df['ymin'])/2)/df['height']\n",
    "df['w']=(df['xmax']-df['xmin'])/df['width']\n",
    "df['h']=(df['ymax']-df['ymin'])/df['height']"
   ]
  },
  {
   "cell_type": "code",
   "execution_count": 13,
   "metadata": {},
   "outputs": [
    {
     "data": {
      "text/html": [
       "<div>\n",
       "<style scoped>\n",
       "    .dataframe tbody tr th:only-of-type {\n",
       "        vertical-align: middle;\n",
       "    }\n",
       "\n",
       "    .dataframe tbody tr th {\n",
       "        vertical-align: top;\n",
       "    }\n",
       "\n",
       "    .dataframe thead th {\n",
       "        text-align: right;\n",
       "    }\n",
       "</style>\n",
       "<table border=\"1\" class=\"dataframe\">\n",
       "  <thead>\n",
       "    <tr style=\"text-align: right;\">\n",
       "      <th></th>\n",
       "      <th>filename</th>\n",
       "      <th>width</th>\n",
       "      <th>height</th>\n",
       "      <th>name</th>\n",
       "      <th>xmin</th>\n",
       "      <th>xmax</th>\n",
       "      <th>ymin</th>\n",
       "      <th>ymax</th>\n",
       "      <th>center_x</th>\n",
       "      <th>center_y</th>\n",
       "      <th>w</th>\n",
       "      <th>h</th>\n",
       "    </tr>\n",
       "  </thead>\n",
       "  <tbody>\n",
       "    <tr>\n",
       "      <th>0</th>\n",
       "      <td>dayClip1--00000.jpg</td>\n",
       "      <td>1280</td>\n",
       "      <td>960</td>\n",
       "      <td>go</td>\n",
       "      <td>702</td>\n",
       "      <td>706</td>\n",
       "      <td>351</td>\n",
       "      <td>356</td>\n",
       "      <td>0.550000</td>\n",
       "      <td>0.368229</td>\n",
       "      <td>0.003125</td>\n",
       "      <td>0.005208</td>\n",
       "    </tr>\n",
       "    <tr>\n",
       "      <th>1</th>\n",
       "      <td>dayClip1--00000.jpg</td>\n",
       "      <td>1280</td>\n",
       "      <td>960</td>\n",
       "      <td>go</td>\n",
       "      <td>850</td>\n",
       "      <td>854</td>\n",
       "      <td>405</td>\n",
       "      <td>409</td>\n",
       "      <td>0.665625</td>\n",
       "      <td>0.423958</td>\n",
       "      <td>0.003125</td>\n",
       "      <td>0.004167</td>\n",
       "    </tr>\n",
       "    <tr>\n",
       "      <th>2</th>\n",
       "      <td>dayClip1--00001.jpg</td>\n",
       "      <td>1280</td>\n",
       "      <td>960</td>\n",
       "      <td>go</td>\n",
       "      <td>702</td>\n",
       "      <td>706</td>\n",
       "      <td>351</td>\n",
       "      <td>355</td>\n",
       "      <td>0.550000</td>\n",
       "      <td>0.367708</td>\n",
       "      <td>0.003125</td>\n",
       "      <td>0.004167</td>\n",
       "    </tr>\n",
       "    <tr>\n",
       "      <th>3</th>\n",
       "      <td>dayClip1--00001.jpg</td>\n",
       "      <td>1280</td>\n",
       "      <td>960</td>\n",
       "      <td>go</td>\n",
       "      <td>851</td>\n",
       "      <td>855</td>\n",
       "      <td>404</td>\n",
       "      <td>408</td>\n",
       "      <td>0.666406</td>\n",
       "      <td>0.422917</td>\n",
       "      <td>0.003125</td>\n",
       "      <td>0.004167</td>\n",
       "    </tr>\n",
       "    <tr>\n",
       "      <th>4</th>\n",
       "      <td>dayClip1--00002.jpg</td>\n",
       "      <td>1280</td>\n",
       "      <td>960</td>\n",
       "      <td>go</td>\n",
       "      <td>702</td>\n",
       "      <td>706</td>\n",
       "      <td>349</td>\n",
       "      <td>354</td>\n",
       "      <td>0.550000</td>\n",
       "      <td>0.366146</td>\n",
       "      <td>0.003125</td>\n",
       "      <td>0.005208</td>\n",
       "    </tr>\n",
       "  </tbody>\n",
       "</table>\n",
       "</div>"
      ],
      "text/plain": [
       "              filename  width  height name  xmin  xmax  ymin  ymax  center_x  \\\n",
       "0  dayClip1--00000.jpg   1280     960   go   702   706   351   356  0.550000   \n",
       "1  dayClip1--00000.jpg   1280     960   go   850   854   405   409  0.665625   \n",
       "2  dayClip1--00001.jpg   1280     960   go   702   706   351   355  0.550000   \n",
       "3  dayClip1--00001.jpg   1280     960   go   851   855   404   408  0.666406   \n",
       "4  dayClip1--00002.jpg   1280     960   go   702   706   349   354  0.550000   \n",
       "\n",
       "   center_y         w         h  \n",
       "0  0.368229  0.003125  0.005208  \n",
       "1  0.423958  0.003125  0.004167  \n",
       "2  0.367708  0.003125  0.004167  \n",
       "3  0.422917  0.003125  0.004167  \n",
       "4  0.366146  0.003125  0.005208  "
      ]
     },
     "execution_count": 13,
     "metadata": {},
     "output_type": "execute_result"
    }
   ],
   "source": [
    "df.head()"
   ]
  },
  {
   "cell_type": "code",
   "execution_count": 14,
   "metadata": {},
   "outputs": [],
   "source": [
    "images=df['filename'].unique()"
   ]
  },
  {
   "cell_type": "code",
   "execution_count": 15,
   "metadata": {},
   "outputs": [
    {
     "data": {
      "text/plain": [
       "36215"
      ]
     },
     "execution_count": 15,
     "metadata": {},
     "output_type": "execute_result"
    }
   ],
   "source": [
    "len(images)"
   ]
  },
  {
   "cell_type": "code",
   "execution_count": 16,
   "metadata": {},
   "outputs": [],
   "source": [
    "img_df=pd.DataFrame(images,columns=['filename'])\n",
    "img_train=tuple(img_df.sample(frac=0.8)['filename'])"
   ]
  },
  {
   "cell_type": "code",
   "execution_count": 17,
   "metadata": {},
   "outputs": [
    {
     "data": {
      "text/plain": [
       "28972"
      ]
     },
     "execution_count": 17,
     "metadata": {},
     "output_type": "execute_result"
    }
   ],
   "source": [
    "len(img_train)"
   ]
  },
  {
   "cell_type": "code",
   "execution_count": 18,
   "metadata": {},
   "outputs": [],
   "source": [
    "img_test=tuple(img_df.query(f'filename not in {img_train}')['filename'])"
   ]
  },
  {
   "cell_type": "code",
   "execution_count": 19,
   "metadata": {},
   "outputs": [
    {
     "data": {
      "text/plain": [
       "7243"
      ]
     },
     "execution_count": 19,
     "metadata": {},
     "output_type": "execute_result"
    }
   ],
   "source": [
    "len(img_test)"
   ]
  },
  {
   "cell_type": "code",
   "execution_count": 20,
   "metadata": {},
   "outputs": [],
   "source": [
    "train_df=df.query(f'filename in{img_train}')\n",
    "test_df=df.query(f'filename in{img_test}')"
   ]
  },
  {
   "cell_type": "code",
   "execution_count": 21,
   "metadata": {},
   "outputs": [
    {
     "data": {
      "text/html": [
       "<div>\n",
       "<style scoped>\n",
       "    .dataframe tbody tr th:only-of-type {\n",
       "        vertical-align: middle;\n",
       "    }\n",
       "\n",
       "    .dataframe tbody tr th {\n",
       "        vertical-align: top;\n",
       "    }\n",
       "\n",
       "    .dataframe thead th {\n",
       "        text-align: right;\n",
       "    }\n",
       "</style>\n",
       "<table border=\"1\" class=\"dataframe\">\n",
       "  <thead>\n",
       "    <tr style=\"text-align: right;\">\n",
       "      <th></th>\n",
       "      <th>filename</th>\n",
       "      <th>width</th>\n",
       "      <th>height</th>\n",
       "      <th>name</th>\n",
       "      <th>xmin</th>\n",
       "      <th>xmax</th>\n",
       "      <th>ymin</th>\n",
       "      <th>ymax</th>\n",
       "      <th>center_x</th>\n",
       "      <th>center_y</th>\n",
       "      <th>w</th>\n",
       "      <th>h</th>\n",
       "    </tr>\n",
       "  </thead>\n",
       "  <tbody>\n",
       "    <tr>\n",
       "      <th>0</th>\n",
       "      <td>dayClip1--00000.jpg</td>\n",
       "      <td>1280</td>\n",
       "      <td>960</td>\n",
       "      <td>go</td>\n",
       "      <td>702</td>\n",
       "      <td>706</td>\n",
       "      <td>351</td>\n",
       "      <td>356</td>\n",
       "      <td>0.550000</td>\n",
       "      <td>0.368229</td>\n",
       "      <td>0.003125</td>\n",
       "      <td>0.005208</td>\n",
       "    </tr>\n",
       "    <tr>\n",
       "      <th>1</th>\n",
       "      <td>dayClip1--00000.jpg</td>\n",
       "      <td>1280</td>\n",
       "      <td>960</td>\n",
       "      <td>go</td>\n",
       "      <td>850</td>\n",
       "      <td>854</td>\n",
       "      <td>405</td>\n",
       "      <td>409</td>\n",
       "      <td>0.665625</td>\n",
       "      <td>0.423958</td>\n",
       "      <td>0.003125</td>\n",
       "      <td>0.004167</td>\n",
       "    </tr>\n",
       "    <tr>\n",
       "      <th>2</th>\n",
       "      <td>dayClip1--00001.jpg</td>\n",
       "      <td>1280</td>\n",
       "      <td>960</td>\n",
       "      <td>go</td>\n",
       "      <td>702</td>\n",
       "      <td>706</td>\n",
       "      <td>351</td>\n",
       "      <td>355</td>\n",
       "      <td>0.550000</td>\n",
       "      <td>0.367708</td>\n",
       "      <td>0.003125</td>\n",
       "      <td>0.004167</td>\n",
       "    </tr>\n",
       "    <tr>\n",
       "      <th>3</th>\n",
       "      <td>dayClip1--00001.jpg</td>\n",
       "      <td>1280</td>\n",
       "      <td>960</td>\n",
       "      <td>go</td>\n",
       "      <td>851</td>\n",
       "      <td>855</td>\n",
       "      <td>404</td>\n",
       "      <td>408</td>\n",
       "      <td>0.666406</td>\n",
       "      <td>0.422917</td>\n",
       "      <td>0.003125</td>\n",
       "      <td>0.004167</td>\n",
       "    </tr>\n",
       "    <tr>\n",
       "      <th>4</th>\n",
       "      <td>dayClip1--00002.jpg</td>\n",
       "      <td>1280</td>\n",
       "      <td>960</td>\n",
       "      <td>go</td>\n",
       "      <td>702</td>\n",
       "      <td>706</td>\n",
       "      <td>349</td>\n",
       "      <td>354</td>\n",
       "      <td>0.550000</td>\n",
       "      <td>0.366146</td>\n",
       "      <td>0.003125</td>\n",
       "      <td>0.005208</td>\n",
       "    </tr>\n",
       "  </tbody>\n",
       "</table>\n",
       "</div>"
      ],
      "text/plain": [
       "              filename  width  height name  xmin  xmax  ymin  ymax  center_x  \\\n",
       "0  dayClip1--00000.jpg   1280     960   go   702   706   351   356  0.550000   \n",
       "1  dayClip1--00000.jpg   1280     960   go   850   854   405   409  0.665625   \n",
       "2  dayClip1--00001.jpg   1280     960   go   702   706   351   355  0.550000   \n",
       "3  dayClip1--00001.jpg   1280     960   go   851   855   404   408  0.666406   \n",
       "4  dayClip1--00002.jpg   1280     960   go   702   706   349   354  0.550000   \n",
       "\n",
       "   center_y         w         h  \n",
       "0  0.368229  0.003125  0.005208  \n",
       "1  0.423958  0.003125  0.004167  \n",
       "2  0.367708  0.003125  0.004167  \n",
       "3  0.422917  0.003125  0.004167  \n",
       "4  0.366146  0.003125  0.005208  "
      ]
     },
     "execution_count": 21,
     "metadata": {},
     "output_type": "execute_result"
    }
   ],
   "source": [
    "train_df.head()"
   ]
  },
  {
   "cell_type": "code",
   "execution_count": 22,
   "metadata": {},
   "outputs": [
    {
     "data": {
      "text/html": [
       "<div>\n",
       "<style scoped>\n",
       "    .dataframe tbody tr th:only-of-type {\n",
       "        vertical-align: middle;\n",
       "    }\n",
       "\n",
       "    .dataframe tbody tr th {\n",
       "        vertical-align: top;\n",
       "    }\n",
       "\n",
       "    .dataframe thead th {\n",
       "        text-align: right;\n",
       "    }\n",
       "</style>\n",
       "<table border=\"1\" class=\"dataframe\">\n",
       "  <thead>\n",
       "    <tr style=\"text-align: right;\">\n",
       "      <th></th>\n",
       "      <th>filename</th>\n",
       "      <th>width</th>\n",
       "      <th>height</th>\n",
       "      <th>name</th>\n",
       "      <th>xmin</th>\n",
       "      <th>xmax</th>\n",
       "      <th>ymin</th>\n",
       "      <th>ymax</th>\n",
       "      <th>center_x</th>\n",
       "      <th>center_y</th>\n",
       "      <th>w</th>\n",
       "      <th>h</th>\n",
       "    </tr>\n",
       "  </thead>\n",
       "  <tbody>\n",
       "    <tr>\n",
       "      <th>20</th>\n",
       "      <td>dayClip1--00010.jpg</td>\n",
       "      <td>1280</td>\n",
       "      <td>960</td>\n",
       "      <td>go</td>\n",
       "      <td>703</td>\n",
       "      <td>708</td>\n",
       "      <td>345</td>\n",
       "      <td>349</td>\n",
       "      <td>0.551172</td>\n",
       "      <td>0.361458</td>\n",
       "      <td>0.003906</td>\n",
       "      <td>0.004167</td>\n",
       "    </tr>\n",
       "    <tr>\n",
       "      <th>21</th>\n",
       "      <td>dayClip1--00010.jpg</td>\n",
       "      <td>1280</td>\n",
       "      <td>960</td>\n",
       "      <td>go</td>\n",
       "      <td>866</td>\n",
       "      <td>870</td>\n",
       "      <td>403</td>\n",
       "      <td>408</td>\n",
       "      <td>0.678125</td>\n",
       "      <td>0.422396</td>\n",
       "      <td>0.003125</td>\n",
       "      <td>0.005208</td>\n",
       "    </tr>\n",
       "    <tr>\n",
       "      <th>50</th>\n",
       "      <td>dayClip1--00025.jpg</td>\n",
       "      <td>1280</td>\n",
       "      <td>960</td>\n",
       "      <td>go</td>\n",
       "      <td>718</td>\n",
       "      <td>723</td>\n",
       "      <td>331</td>\n",
       "      <td>336</td>\n",
       "      <td>0.562891</td>\n",
       "      <td>0.347396</td>\n",
       "      <td>0.003906</td>\n",
       "      <td>0.005208</td>\n",
       "    </tr>\n",
       "    <tr>\n",
       "      <th>51</th>\n",
       "      <td>dayClip1--00025.jpg</td>\n",
       "      <td>1280</td>\n",
       "      <td>960</td>\n",
       "      <td>go</td>\n",
       "      <td>907</td>\n",
       "      <td>912</td>\n",
       "      <td>400</td>\n",
       "      <td>404</td>\n",
       "      <td>0.710547</td>\n",
       "      <td>0.418750</td>\n",
       "      <td>0.003906</td>\n",
       "      <td>0.004167</td>\n",
       "    </tr>\n",
       "    <tr>\n",
       "      <th>70</th>\n",
       "      <td>dayClip1--00035.jpg</td>\n",
       "      <td>1280</td>\n",
       "      <td>960</td>\n",
       "      <td>go</td>\n",
       "      <td>724</td>\n",
       "      <td>730</td>\n",
       "      <td>319</td>\n",
       "      <td>325</td>\n",
       "      <td>0.567969</td>\n",
       "      <td>0.335417</td>\n",
       "      <td>0.004687</td>\n",
       "      <td>0.006250</td>\n",
       "    </tr>\n",
       "  </tbody>\n",
       "</table>\n",
       "</div>"
      ],
      "text/plain": [
       "               filename  width  height name  xmin  xmax  ymin  ymax  center_x  \\\n",
       "20  dayClip1--00010.jpg   1280     960   go   703   708   345   349  0.551172   \n",
       "21  dayClip1--00010.jpg   1280     960   go   866   870   403   408  0.678125   \n",
       "50  dayClip1--00025.jpg   1280     960   go   718   723   331   336  0.562891   \n",
       "51  dayClip1--00025.jpg   1280     960   go   907   912   400   404  0.710547   \n",
       "70  dayClip1--00035.jpg   1280     960   go   724   730   319   325  0.567969   \n",
       "\n",
       "    center_y         w         h  \n",
       "20  0.361458  0.003906  0.004167  \n",
       "21  0.422396  0.003125  0.005208  \n",
       "50  0.347396  0.003906  0.005208  \n",
       "51  0.418750  0.003906  0.004167  \n",
       "70  0.335417  0.004687  0.006250  "
      ]
     },
     "execution_count": 22,
     "metadata": {},
     "output_type": "execute_result"
    }
   ],
   "source": [
    "test_df.head()"
   ]
  },
  {
   "cell_type": "code",
   "execution_count": 23,
   "metadata": {},
   "outputs": [],
   "source": [
    "def label_encoding(x):\n",
    "    labels={'go':0, 'stop':1, 'warning':2}\n",
    "    return labels[x]"
   ]
  },
  {
   "cell_type": "code",
   "execution_count": 24,
   "metadata": {},
   "outputs": [
    {
     "name": "stderr",
     "output_type": "stream",
     "text": [
      "C:\\Users\\ARYAN\\AppData\\Local\\Temp\\ipykernel_6796\\3116627190.py:1: SettingWithCopyWarning: \n",
      "A value is trying to be set on a copy of a slice from a DataFrame.\n",
      "Try using .loc[row_indexer,col_indexer] = value instead\n",
      "\n",
      "See the caveats in the documentation: https://pandas.pydata.org/pandas-docs/stable/user_guide/indexing.html#returning-a-view-versus-a-copy\n",
      "  train_df['id'] = train_df['name'].apply(label_encoding)\n",
      "C:\\Users\\ARYAN\\AppData\\Local\\Temp\\ipykernel_6796\\3116627190.py:2: SettingWithCopyWarning: \n",
      "A value is trying to be set on a copy of a slice from a DataFrame.\n",
      "Try using .loc[row_indexer,col_indexer] = value instead\n",
      "\n",
      "See the caveats in the documentation: https://pandas.pydata.org/pandas-docs/stable/user_guide/indexing.html#returning-a-view-versus-a-copy\n",
      "  test_df['id'] = test_df['name'].apply(label_encoding)\n"
     ]
    }
   ],
   "source": [
    "train_df['id'] = train_df['name'].apply(label_encoding)\n",
    "test_df['id'] = test_df['name'].apply(label_encoding)"
   ]
  },
  {
   "cell_type": "code",
   "execution_count": 25,
   "metadata": {},
   "outputs": [
    {
     "data": {
      "text/html": [
       "<div>\n",
       "<style scoped>\n",
       "    .dataframe tbody tr th:only-of-type {\n",
       "        vertical-align: middle;\n",
       "    }\n",
       "\n",
       "    .dataframe tbody tr th {\n",
       "        vertical-align: top;\n",
       "    }\n",
       "\n",
       "    .dataframe thead th {\n",
       "        text-align: right;\n",
       "    }\n",
       "</style>\n",
       "<table border=\"1\" class=\"dataframe\">\n",
       "  <thead>\n",
       "    <tr style=\"text-align: right;\">\n",
       "      <th></th>\n",
       "      <th>filename</th>\n",
       "      <th>width</th>\n",
       "      <th>height</th>\n",
       "      <th>name</th>\n",
       "      <th>xmin</th>\n",
       "      <th>xmax</th>\n",
       "      <th>ymin</th>\n",
       "      <th>ymax</th>\n",
       "      <th>center_x</th>\n",
       "      <th>center_y</th>\n",
       "      <th>w</th>\n",
       "      <th>h</th>\n",
       "      <th>id</th>\n",
       "    </tr>\n",
       "  </thead>\n",
       "  <tbody>\n",
       "    <tr>\n",
       "      <th>0</th>\n",
       "      <td>dayClip1--00000.jpg</td>\n",
       "      <td>1280</td>\n",
       "      <td>960</td>\n",
       "      <td>go</td>\n",
       "      <td>702</td>\n",
       "      <td>706</td>\n",
       "      <td>351</td>\n",
       "      <td>356</td>\n",
       "      <td>0.550000</td>\n",
       "      <td>0.368229</td>\n",
       "      <td>0.003125</td>\n",
       "      <td>0.005208</td>\n",
       "      <td>0</td>\n",
       "    </tr>\n",
       "    <tr>\n",
       "      <th>1</th>\n",
       "      <td>dayClip1--00000.jpg</td>\n",
       "      <td>1280</td>\n",
       "      <td>960</td>\n",
       "      <td>go</td>\n",
       "      <td>850</td>\n",
       "      <td>854</td>\n",
       "      <td>405</td>\n",
       "      <td>409</td>\n",
       "      <td>0.665625</td>\n",
       "      <td>0.423958</td>\n",
       "      <td>0.003125</td>\n",
       "      <td>0.004167</td>\n",
       "      <td>0</td>\n",
       "    </tr>\n",
       "    <tr>\n",
       "      <th>2</th>\n",
       "      <td>dayClip1--00001.jpg</td>\n",
       "      <td>1280</td>\n",
       "      <td>960</td>\n",
       "      <td>go</td>\n",
       "      <td>702</td>\n",
       "      <td>706</td>\n",
       "      <td>351</td>\n",
       "      <td>355</td>\n",
       "      <td>0.550000</td>\n",
       "      <td>0.367708</td>\n",
       "      <td>0.003125</td>\n",
       "      <td>0.004167</td>\n",
       "      <td>0</td>\n",
       "    </tr>\n",
       "    <tr>\n",
       "      <th>3</th>\n",
       "      <td>dayClip1--00001.jpg</td>\n",
       "      <td>1280</td>\n",
       "      <td>960</td>\n",
       "      <td>go</td>\n",
       "      <td>851</td>\n",
       "      <td>855</td>\n",
       "      <td>404</td>\n",
       "      <td>408</td>\n",
       "      <td>0.666406</td>\n",
       "      <td>0.422917</td>\n",
       "      <td>0.003125</td>\n",
       "      <td>0.004167</td>\n",
       "      <td>0</td>\n",
       "    </tr>\n",
       "    <tr>\n",
       "      <th>4</th>\n",
       "      <td>dayClip1--00002.jpg</td>\n",
       "      <td>1280</td>\n",
       "      <td>960</td>\n",
       "      <td>go</td>\n",
       "      <td>702</td>\n",
       "      <td>706</td>\n",
       "      <td>349</td>\n",
       "      <td>354</td>\n",
       "      <td>0.550000</td>\n",
       "      <td>0.366146</td>\n",
       "      <td>0.003125</td>\n",
       "      <td>0.005208</td>\n",
       "      <td>0</td>\n",
       "    </tr>\n",
       "    <tr>\n",
       "      <th>5</th>\n",
       "      <td>dayClip1--00002.jpg</td>\n",
       "      <td>1280</td>\n",
       "      <td>960</td>\n",
       "      <td>go</td>\n",
       "      <td>852</td>\n",
       "      <td>856</td>\n",
       "      <td>403</td>\n",
       "      <td>407</td>\n",
       "      <td>0.667188</td>\n",
       "      <td>0.421875</td>\n",
       "      <td>0.003125</td>\n",
       "      <td>0.004167</td>\n",
       "      <td>0</td>\n",
       "    </tr>\n",
       "    <tr>\n",
       "      <th>6</th>\n",
       "      <td>dayClip1--00003.jpg</td>\n",
       "      <td>1280</td>\n",
       "      <td>960</td>\n",
       "      <td>go</td>\n",
       "      <td>702</td>\n",
       "      <td>706</td>\n",
       "      <td>347</td>\n",
       "      <td>352</td>\n",
       "      <td>0.550000</td>\n",
       "      <td>0.364063</td>\n",
       "      <td>0.003125</td>\n",
       "      <td>0.005208</td>\n",
       "      <td>0</td>\n",
       "    </tr>\n",
       "    <tr>\n",
       "      <th>7</th>\n",
       "      <td>dayClip1--00003.jpg</td>\n",
       "      <td>1280</td>\n",
       "      <td>960</td>\n",
       "      <td>go</td>\n",
       "      <td>854</td>\n",
       "      <td>858</td>\n",
       "      <td>401</td>\n",
       "      <td>406</td>\n",
       "      <td>0.668750</td>\n",
       "      <td>0.420312</td>\n",
       "      <td>0.003125</td>\n",
       "      <td>0.005208</td>\n",
       "      <td>0</td>\n",
       "    </tr>\n",
       "    <tr>\n",
       "      <th>8</th>\n",
       "      <td>dayClip1--00004.jpg</td>\n",
       "      <td>1280</td>\n",
       "      <td>960</td>\n",
       "      <td>go</td>\n",
       "      <td>702</td>\n",
       "      <td>707</td>\n",
       "      <td>346</td>\n",
       "      <td>351</td>\n",
       "      <td>0.550391</td>\n",
       "      <td>0.363021</td>\n",
       "      <td>0.003906</td>\n",
       "      <td>0.005208</td>\n",
       "      <td>0</td>\n",
       "    </tr>\n",
       "    <tr>\n",
       "      <th>9</th>\n",
       "      <td>dayClip1--00004.jpg</td>\n",
       "      <td>1280</td>\n",
       "      <td>960</td>\n",
       "      <td>go</td>\n",
       "      <td>856</td>\n",
       "      <td>860</td>\n",
       "      <td>401</td>\n",
       "      <td>406</td>\n",
       "      <td>0.670312</td>\n",
       "      <td>0.420312</td>\n",
       "      <td>0.003125</td>\n",
       "      <td>0.005208</td>\n",
       "      <td>0</td>\n",
       "    </tr>\n",
       "  </tbody>\n",
       "</table>\n",
       "</div>"
      ],
      "text/plain": [
       "              filename  width  height name  xmin  xmax  ymin  ymax  center_x  \\\n",
       "0  dayClip1--00000.jpg   1280     960   go   702   706   351   356  0.550000   \n",
       "1  dayClip1--00000.jpg   1280     960   go   850   854   405   409  0.665625   \n",
       "2  dayClip1--00001.jpg   1280     960   go   702   706   351   355  0.550000   \n",
       "3  dayClip1--00001.jpg   1280     960   go   851   855   404   408  0.666406   \n",
       "4  dayClip1--00002.jpg   1280     960   go   702   706   349   354  0.550000   \n",
       "5  dayClip1--00002.jpg   1280     960   go   852   856   403   407  0.667188   \n",
       "6  dayClip1--00003.jpg   1280     960   go   702   706   347   352  0.550000   \n",
       "7  dayClip1--00003.jpg   1280     960   go   854   858   401   406  0.668750   \n",
       "8  dayClip1--00004.jpg   1280     960   go   702   707   346   351  0.550391   \n",
       "9  dayClip1--00004.jpg   1280     960   go   856   860   401   406  0.670312   \n",
       "\n",
       "   center_y         w         h  id  \n",
       "0  0.368229  0.003125  0.005208   0  \n",
       "1  0.423958  0.003125  0.004167   0  \n",
       "2  0.367708  0.003125  0.004167   0  \n",
       "3  0.422917  0.003125  0.004167   0  \n",
       "4  0.366146  0.003125  0.005208   0  \n",
       "5  0.421875  0.003125  0.004167   0  \n",
       "6  0.364063  0.003125  0.005208   0  \n",
       "7  0.420312  0.003125  0.005208   0  \n",
       "8  0.363021  0.003906  0.005208   0  \n",
       "9  0.420312  0.003125  0.005208   0  "
      ]
     },
     "execution_count": 25,
     "metadata": {},
     "output_type": "execute_result"
    }
   ],
   "source": [
    "train_df.head(10)"
   ]
  },
  {
   "cell_type": "code",
   "execution_count": 26,
   "metadata": {},
   "outputs": [],
   "source": [
    "from shutil import move"
   ]
  },
  {
   "cell_type": "code",
   "execution_count": 27,
   "metadata": {},
   "outputs": [],
   "source": [
    "train_folder='tt2/train'\n",
    "test_folder='tt2/test'\n",
    "os.mkdir(train_folder)\n",
    "os.mkdir(test_folder)"
   ]
  },
  {
   "cell_type": "code",
   "execution_count": 28,
   "metadata": {},
   "outputs": [],
   "source": [
    "cols=['filename','id','center_x','center_y','w','h']\n",
    "groupby_obj_train=train_df[cols].groupby('filename')\n",
    "groupby_obj_test=test_df[cols].groupby('filename')"
   ]
  },
  {
   "cell_type": "code",
   "execution_count": 29,
   "metadata": {},
   "outputs": [],
   "source": [
    "import os\n",
    "from shutil import copy\n",
    "\n",
    "def save_data(filename, folder_path, group_obj):\n",
    "    src = os.path.join('Images_sorted', filename)\n",
    "    dst = os.path.join(folder_path, filename)\n",
    "    \n",
    "    # Copy the file instead of moving it\n",
    "    copy(src, dst)\n",
    "    \n",
    "    # Create the text file in the destination folder\n",
    "    text_filename = os.path.join(folder_path, os.path.splitext(filename)[0] + '.txt')\n",
    "    \n",
    "    # Corrected 'sep' parameter\n",
    "    group_obj.get_group(filename).set_index('filename').to_csv(text_filename, sep=' ', index=False, header=False)\n"
   ]
  },
  {
   "cell_type": "code",
   "execution_count": 30,
   "metadata": {},
   "outputs": [],
   "source": [
    "filename_series=pd.Series(groupby_obj_train.groups.keys())"
   ]
  },
  {
   "cell_type": "code",
   "execution_count": 31,
   "metadata": {},
   "outputs": [
    {
     "data": {
      "text/plain": [
       "0        None\n",
       "1        None\n",
       "2        None\n",
       "3        None\n",
       "4        None\n",
       "         ... \n",
       "28967    None\n",
       "28968    None\n",
       "28969    None\n",
       "28970    None\n",
       "28971    None\n",
       "Length: 28972, dtype: object"
      ]
     },
     "execution_count": 31,
     "metadata": {},
     "output_type": "execute_result"
    }
   ],
   "source": [
    "filename_series.apply(save_data,args=(train_folder,groupby_obj_train))"
   ]
  },
  {
   "cell_type": "code",
   "execution_count": 32,
   "metadata": {},
   "outputs": [
    {
     "data": {
      "text/plain": [
       "0       None\n",
       "1       None\n",
       "2       None\n",
       "3       None\n",
       "4       None\n",
       "        ... \n",
       "7238    None\n",
       "7239    None\n",
       "7240    None\n",
       "7241    None\n",
       "7242    None\n",
       "Length: 7243, dtype: object"
      ]
     },
     "execution_count": 32,
     "metadata": {},
     "output_type": "execute_result"
    }
   ],
   "source": [
    "filename_series_test=pd.Series(groupby_obj_test.groups.keys())\n",
    "filename_series_test.apply(save_data,args=(test_folder,groupby_obj_test))"
   ]
  },
  {
   "cell_type": "code",
   "execution_count": 40,
   "metadata": {},
   "outputs": [
    {
     "name": "stdout",
     "output_type": "stream",
     "text": [
      "YAML file created at tt/config.yaml\n"
     ]
    }
   ],
   "source": [
    "import yaml\n",
    "\n",
    "# Define the data for the YAML file\n",
    "data = {\n",
    "    'train': 'tt/train',\n",
    "    'test': 'tt/test',\n",
    "    'nc': 3,\n",
    "    'names': ['go', 'stop', 'warning']\n",
    "}\n",
    "\n",
    "# Specify the YAML file path\n",
    "yaml_file = 'tt/config.yaml'\n",
    "\n",
    "# Write the data to the YAML file\n",
    "with open(yaml_file, 'w') as file:\n",
    "    yaml.dump(data, file)\n",
    "\n",
    "print(f\"YAML file created at {yaml_file}\")\n"
   ]
  },
  {
   "cell_type": "code",
   "execution_count": null,
   "metadata": {},
   "outputs": [],
   "source": []
  }
 ],
 "metadata": {
  "kaggle": {
   "accelerator": "nvidiaTeslaT4",
   "dataSources": [
    {
     "datasetId": 5911961,
     "sourceId": 9673774,
     "sourceType": "datasetVersion"
    }
   ],
   "dockerImageVersionId": 30787,
   "isGpuEnabled": true,
   "isInternetEnabled": true,
   "language": "python",
   "sourceType": "notebook"
  },
  "kernelspec": {
   "display_name": "Python 3 (ipykernel)",
   "language": "python",
   "name": "python3"
  },
  "language_info": {
   "codemirror_mode": {
    "name": "ipython",
    "version": 3
   },
   "file_extension": ".py",
   "mimetype": "text/x-python",
   "name": "python",
   "nbconvert_exporter": "python",
   "pygments_lexer": "ipython3",
   "version": "3.10.2"
  }
 },
 "nbformat": 4,
 "nbformat_minor": 4
}
